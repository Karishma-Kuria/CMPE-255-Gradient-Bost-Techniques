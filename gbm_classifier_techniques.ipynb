{
  "nbformat": 4,
  "nbformat_minor": 0,
  "metadata": {
    "colab": {
      "name": "gbm_classifier_techniques.ipynb",
      "provenance": [],
      "collapsed_sections": [],
      "authorship_tag": "ABX9TyPDppx+nSXQp/6A5p/5Cxvj",
      "include_colab_link": true
    },
    "kernelspec": {
      "name": "python3",
      "display_name": "Python 3"
    },
    "language_info": {
      "name": "python"
    }
  },
  "cells": [
    {
      "cell_type": "markdown",
      "metadata": {
        "id": "view-in-github",
        "colab_type": "text"
      },
      "source": [
        "<a href=\"https://colab.research.google.com/github/Karishma-Kuria/CMPE-255-Gradient-Bost-Techniques/blob/main/gbm_classifier_techniques.ipynb\" target=\"_parent\"><img src=\"https://colab.research.google.com/assets/colab-badge.svg\" alt=\"Open In Colab\"/></a>"
      ]
    },
    {
      "cell_type": "markdown",
      "metadata": {
        "id": "NmzrqiShYkkD"
      },
      "source": [
        "## **Various gbm classifier techniques**\n",
        "\n"
      ]
    },
    {
      "cell_type": "code",
      "metadata": {
        "id": "1pzBXVRp37Tq"
      },
      "source": [
        "# Importing relevant packages and data\n",
        "from time import time\n",
        "import numpy as np\n",
        "import pandas as pd\n",
        "from sklearn.preprocessing import MinMaxScaler\n",
        "from sklearn.model_selection import train_test_split\n",
        "from sklearn.metrics import classification_report, confusion_matrix\n",
        "from sklearn.feature_extraction.text import TfidfVectorizer\n",
        "from sklearn.svm import LinearSVC\n",
        "from sklearn.tree import DecisionTreeClassifier\n",
        "from sklearn.experimental import enable_hist_gradient_boosting\n",
        "from sklearn.ensemble import (RandomForestClassifier,\n",
        "                              AdaBoostClassifier,\n",
        "                              GradientBoostingClassifier,\n",
        "                              HistGradientBoostingClassifier)\n",
        "from xgboost import XGBClassifier\n",
        "from lightgbm import LGBMClassifier\n",
        "import matplotlib.pyplot as plt"
      ],
      "execution_count": 180,
      "outputs": []
    },
    {
      "cell_type": "code",
      "metadata": {
        "colab": {
          "base_uri": "https://localhost:8080/"
        },
        "id": "G-9zO-nKGA-w",
        "outputId": "3f6ef2aa-87b3-48cf-e693-cce91a2b62b3"
      },
      "source": [
        "# Installing Catboost\n",
        "!pip install catboost"
      ],
      "execution_count": 181,
      "outputs": [
        {
          "output_type": "stream",
          "name": "stdout",
          "text": [
            "Requirement already satisfied: catboost in /usr/local/lib/python3.7/dist-packages (1.0.3)\n",
            "Requirement already satisfied: graphviz in /usr/local/lib/python3.7/dist-packages (from catboost) (0.10.1)\n",
            "Requirement already satisfied: pandas>=0.24.0 in /usr/local/lib/python3.7/dist-packages (from catboost) (1.1.5)\n",
            "Requirement already satisfied: scipy in /usr/local/lib/python3.7/dist-packages (from catboost) (1.4.1)\n",
            "Requirement already satisfied: six in /usr/local/lib/python3.7/dist-packages (from catboost) (1.15.0)\n",
            "Requirement already satisfied: matplotlib in /usr/local/lib/python3.7/dist-packages (from catboost) (3.2.2)\n",
            "Requirement already satisfied: numpy>=1.16.0 in /usr/local/lib/python3.7/dist-packages (from catboost) (1.19.5)\n",
            "Requirement already satisfied: plotly in /usr/local/lib/python3.7/dist-packages (from catboost) (4.4.1)\n",
            "Requirement already satisfied: python-dateutil>=2.7.3 in /usr/local/lib/python3.7/dist-packages (from pandas>=0.24.0->catboost) (2.8.2)\n",
            "Requirement already satisfied: pytz>=2017.2 in /usr/local/lib/python3.7/dist-packages (from pandas>=0.24.0->catboost) (2018.9)\n",
            "Requirement already satisfied: kiwisolver>=1.0.1 in /usr/local/lib/python3.7/dist-packages (from matplotlib->catboost) (1.3.2)\n",
            "Requirement already satisfied: cycler>=0.10 in /usr/local/lib/python3.7/dist-packages (from matplotlib->catboost) (0.11.0)\n",
            "Requirement already satisfied: pyparsing!=2.0.4,!=2.1.2,!=2.1.6,>=2.0.1 in /usr/local/lib/python3.7/dist-packages (from matplotlib->catboost) (3.0.6)\n",
            "Requirement already satisfied: retrying>=1.3.3 in /usr/local/lib/python3.7/dist-packages (from plotly->catboost) (1.3.3)\n"
          ]
        }
      ]
    },
    {
      "cell_type": "code",
      "metadata": {
        "id": "qLBUhJbJGXyE"
      },
      "source": [
        "from catboost import CatBoostClassifier\n",
        "train_ds = pd.read_csv('https://github.com/Karishma-Kuria/CMPE-255-Gradient-Bost-Techniques/blob/main/train.csv?raw=true').sample(frac=1.0)\n",
        "test_ds = pd.read_csv('https://github.com/Karishma-Kuria/CMPE-255-Gradient-Bost-Techniques/blob/main/test.csv?raw=true').sample(frac=1.0)"
      ],
      "execution_count": 303,
      "outputs": []
    },
    {
      "cell_type": "code",
      "metadata": {
        "colab": {
          "base_uri": "https://localhost:8080/",
          "height": 237
        },
        "id": "V3-N99SQF7W0",
        "outputId": "7ebe38e2-c98a-4ca7-a6fd-96da579da7a6"
      },
      "source": [
        "train_ds.head()"
      ],
      "execution_count": 304,
      "outputs": [
        {
          "output_type": "execute_result",
          "data": {
            "text/html": [
              "<div>\n",
              "<style scoped>\n",
              "    .dataframe tbody tr th:only-of-type {\n",
              "        vertical-align: middle;\n",
              "    }\n",
              "\n",
              "    .dataframe tbody tr th {\n",
              "        vertical-align: top;\n",
              "    }\n",
              "\n",
              "    .dataframe thead th {\n",
              "        text-align: right;\n",
              "    }\n",
              "</style>\n",
              "<table border=\"1\" class=\"dataframe\">\n",
              "  <thead>\n",
              "    <tr style=\"text-align: right;\">\n",
              "      <th></th>\n",
              "      <th>PassengerId</th>\n",
              "      <th>Survived</th>\n",
              "      <th>Pclass</th>\n",
              "      <th>Name</th>\n",
              "      <th>Sex</th>\n",
              "      <th>Age</th>\n",
              "      <th>SibSp</th>\n",
              "      <th>Parch</th>\n",
              "      <th>Ticket</th>\n",
              "      <th>Fare</th>\n",
              "      <th>Cabin</th>\n",
              "      <th>Embarked</th>\n",
              "    </tr>\n",
              "  </thead>\n",
              "  <tbody>\n",
              "    <tr>\n",
              "      <th>264</th>\n",
              "      <td>265</td>\n",
              "      <td>0</td>\n",
              "      <td>3</td>\n",
              "      <td>Henry, Miss. Delia</td>\n",
              "      <td>female</td>\n",
              "      <td>NaN</td>\n",
              "      <td>0</td>\n",
              "      <td>0</td>\n",
              "      <td>382649</td>\n",
              "      <td>7.7500</td>\n",
              "      <td>NaN</td>\n",
              "      <td>Q</td>\n",
              "    </tr>\n",
              "    <tr>\n",
              "      <th>756</th>\n",
              "      <td>757</td>\n",
              "      <td>0</td>\n",
              "      <td>3</td>\n",
              "      <td>Carlsson, Mr. August Sigfrid</td>\n",
              "      <td>male</td>\n",
              "      <td>28.0</td>\n",
              "      <td>0</td>\n",
              "      <td>0</td>\n",
              "      <td>350042</td>\n",
              "      <td>7.7958</td>\n",
              "      <td>NaN</td>\n",
              "      <td>S</td>\n",
              "    </tr>\n",
              "    <tr>\n",
              "      <th>201</th>\n",
              "      <td>202</td>\n",
              "      <td>0</td>\n",
              "      <td>3</td>\n",
              "      <td>Sage, Mr. Frederick</td>\n",
              "      <td>male</td>\n",
              "      <td>NaN</td>\n",
              "      <td>8</td>\n",
              "      <td>2</td>\n",
              "      <td>CA. 2343</td>\n",
              "      <td>69.5500</td>\n",
              "      <td>NaN</td>\n",
              "      <td>S</td>\n",
              "    </tr>\n",
              "    <tr>\n",
              "      <th>433</th>\n",
              "      <td>434</td>\n",
              "      <td>0</td>\n",
              "      <td>3</td>\n",
              "      <td>Kallio, Mr. Nikolai Erland</td>\n",
              "      <td>male</td>\n",
              "      <td>17.0</td>\n",
              "      <td>0</td>\n",
              "      <td>0</td>\n",
              "      <td>STON/O 2. 3101274</td>\n",
              "      <td>7.1250</td>\n",
              "      <td>NaN</td>\n",
              "      <td>S</td>\n",
              "    </tr>\n",
              "    <tr>\n",
              "      <th>449</th>\n",
              "      <td>450</td>\n",
              "      <td>1</td>\n",
              "      <td>1</td>\n",
              "      <td>Peuchen, Major. Arthur Godfrey</td>\n",
              "      <td>male</td>\n",
              "      <td>52.0</td>\n",
              "      <td>0</td>\n",
              "      <td>0</td>\n",
              "      <td>113786</td>\n",
              "      <td>30.5000</td>\n",
              "      <td>C104</td>\n",
              "      <td>S</td>\n",
              "    </tr>\n",
              "  </tbody>\n",
              "</table>\n",
              "</div>"
            ],
            "text/plain": [
              "     PassengerId  Survived  Pclass  ...     Fare Cabin  Embarked\n",
              "264          265         0       3  ...   7.7500   NaN         Q\n",
              "756          757         0       3  ...   7.7958   NaN         S\n",
              "201          202         0       3  ...  69.5500   NaN         S\n",
              "433          434         0       3  ...   7.1250   NaN         S\n",
              "449          450         1       1  ...  30.5000  C104         S\n",
              "\n",
              "[5 rows x 12 columns]"
            ]
          },
          "metadata": {},
          "execution_count": 304
        }
      ]
    },
    {
      "cell_type": "markdown",
      "metadata": {
        "id": "nqOD6D2rJGs-"
      },
      "source": [
        "## Preprocessing the data\n",
        "1.   We are setting PassengerId as the index column.\n",
        "2.   The label data y is the 'Survival' Column, will make its own dataframe and removing it from features set. \n",
        "\n",
        "\n"
      ]
    },
    {
      "cell_type": "code",
      "metadata": {
        "colab": {
          "base_uri": "https://localhost:8080/"
        },
        "id": "eRJ6bYBeFCQd",
        "outputId": "f02db75d-f9fb-4ddd-a456-b8318564d803"
      },
      "source": [
        "y_train = train_ds[\"Survived\"]\n",
        "y_train.shape"
      ],
      "execution_count": 305,
      "outputs": [
        {
          "output_type": "execute_result",
          "data": {
            "text/plain": [
              "(890,)"
            ]
          },
          "metadata": {},
          "execution_count": 305
        }
      ]
    },
    {
      "cell_type": "code",
      "metadata": {
        "colab": {
          "base_uri": "https://localhost:8080/"
        },
        "id": "EmExUu10KW3D",
        "outputId": "f1ff8409-a0f6-4b55-fe34-111b524d91b6"
      },
      "source": [
        "train_ds.drop(labels=\"Survived\", axis=1, inplace=True)\n",
        "\n",
        "# Concatenating the dataset\n",
        "full_ds = train_ds.append(test_ds)\n",
        "full_ds.shape"
      ],
      "execution_count": 306,
      "outputs": [
        {
          "output_type": "execute_result",
          "data": {
            "text/plain": [
              "(1308, 11)"
            ]
          },
          "metadata": {},
          "execution_count": 306
        }
      ]
    },
    {
      "cell_type": "code",
      "metadata": {
        "id": "QPUICgzGL1RL"
      },
      "source": [
        "# Now Dropping all the features which are not required for training\n",
        "drop_cols = [\"Name\", \"Age\", \"SibSp\", \"Ticket\", \"Cabin\", \"Parch\", \"Embarked\"]\n",
        "full_ds.drop(labels=drop_cols, axis=1, inplace=True)"
      ],
      "execution_count": 307,
      "outputs": []
    },
    {
      "cell_type": "code",
      "metadata": {
        "colab": {
          "base_uri": "https://localhost:8080/"
        },
        "id": "4SUBdSSoMTtz",
        "outputId": "3cb012c0-3db4-42cf-aeb4-ab9112f54565"
      },
      "source": [
        "full_ds.shape"
      ],
      "execution_count": 308,
      "outputs": [
        {
          "output_type": "execute_result",
          "data": {
            "text/plain": [
              "(1308, 4)"
            ]
          },
          "metadata": {},
          "execution_count": 308
        }
      ]
    },
    {
      "cell_type": "markdown",
      "metadata": {
        "id": "u86Lg54yMbis"
      },
      "source": [
        "### Converting any categorial feature to numerical feature for the model.\n",
        "### Filling empty cells with 0."
      ]
    },
    {
      "cell_type": "code",
      "metadata": {
        "colab": {
          "base_uri": "https://localhost:8080/"
        },
        "id": "UdFBeSgKMsTz",
        "outputId": "4cf55466-e871-451b-c111-f89f6dfde888"
      },
      "source": [
        "full_ds = pd.get_dummies(full_ds, columns=[\"Sex\"])\n",
        "full_ds.fillna(value=0.0, inplace=True)\n",
        "full_ds.shape"
      ],
      "execution_count": 309,
      "outputs": [
        {
          "output_type": "execute_result",
          "data": {
            "text/plain": [
              "(1308, 5)"
            ]
          },
          "metadata": {},
          "execution_count": 309
        }
      ]
    },
    {
      "cell_type": "markdown",
      "metadata": {
        "id": "WJFgPpo3NExv"
      },
      "source": [
        "## Splitting the complete dataset into testing and training data"
      ]
    },
    {
      "cell_type": "code",
      "metadata": {
        "id": "5RufIK7eNK7U"
      },
      "source": [
        "X_train = full_ds.values[0:890]\n",
        "x_test = full_ds.values[890:]\n",
        "\n",
        "# Scalling data\n",
        "scaler = MinMaxScaler()\n",
        "X_train = scaler.fit_transform(X_train)\n",
        "X_test = scaler.transform(x_test)\n",
        "\n",
        "# Splitting data into training and testing\n",
        "state = 12  \n",
        "test_size = 0.30\n",
        "  \n",
        "x_train, x_val, y_train, y_val = train_test_split(X_train, y_train,  \n",
        "    test_size=test_size,random_state=state)"
      ],
      "execution_count": 310,
      "outputs": []
    },
    {
      "cell_type": "code",
      "metadata": {
        "colab": {
          "base_uri": "https://localhost:8080/",
          "height": 49
        },
        "id": "DWA280RQOZpg",
        "outputId": "4a55a663-eb04-4a05-85b1-e6c23e3ebb65"
      },
      "source": [
        "# Setting up results dataframe\n",
        "results_df = pd.DataFrame(columns=['accuracy_score_training','accuracy_score_validation','run_time'])\n",
        "results_df"
      ],
      "execution_count": 316,
      "outputs": [
        {
          "output_type": "execute_result",
          "data": {
            "text/html": [
              "<div>\n",
              "<style scoped>\n",
              "    .dataframe tbody tr th:only-of-type {\n",
              "        vertical-align: middle;\n",
              "    }\n",
              "\n",
              "    .dataframe tbody tr th {\n",
              "        vertical-align: top;\n",
              "    }\n",
              "\n",
              "    .dataframe thead th {\n",
              "        text-align: right;\n",
              "    }\n",
              "</style>\n",
              "<table border=\"1\" class=\"dataframe\">\n",
              "  <thead>\n",
              "    <tr style=\"text-align: right;\">\n",
              "      <th></th>\n",
              "      <th>accuracy_score_training</th>\n",
              "      <th>accuracy_score_validation</th>\n",
              "      <th>run_time</th>\n",
              "    </tr>\n",
              "  </thead>\n",
              "  <tbody>\n",
              "  </tbody>\n",
              "</table>\n",
              "</div>"
            ],
            "text/plain": [
              "Empty DataFrame\n",
              "Columns: [accuracy_score_training, accuracy_score_validation, run_time]\n",
              "Index: []"
            ]
          },
          "metadata": {},
          "execution_count": 316
        }
      ]
    },
    {
      "cell_type": "markdown",
      "metadata": {
        "id": "_aYM4d6aYLFD"
      },
      "source": [
        "Defining all the models along with relevent parameters."
      ]
    },
    {
      "cell_type": "code",
      "metadata": {
        "id": "p7UHxLW4QqOU"
      },
      "source": [
        "# Decision tree with maximum depth = 12\n",
        "decision_tree = DecisionTreeClassifier(max_depth=12, random_state=1234)\n",
        "\n",
        "# Random Forest\n",
        "random_forest = RandomForestClassifier(n_estimators=500,\n",
        "                            max_features=0.06,\n",
        "                            n_jobs=6,\n",
        "                            random_state=1234)\n",
        "# Adaboost\n",
        "base_estim = DecisionTreeClassifier(max_depth=1, max_features=0.06) \n",
        "ad_boost = AdaBoostClassifier(base_estimator=base_estim,\n",
        "                        n_estimators=500,\n",
        "                        learning_rate=0.5,\n",
        "                        random_state=1234)\n",
        "# XGBoost\n",
        "xg_boost = XGBClassifier(n_estimators=2000,\n",
        "                    tree_method='hist',\n",
        "                    subsample=0.67,\n",
        "                    colsample_level=0.06,\n",
        "                    verbose=0,\n",
        "                    n_jobs=6,\n",
        "                    random_state=1234)\n",
        "# LightGBM\n",
        "light_gbm = LGBMClassifier(n_estimators=2000,\n",
        "                      feature_fraction=0.06,\n",
        "                      bagging_fraction=0.67,\n",
        "                      bagging_freq=1,\n",
        "                      verbose=0,\n",
        "                      n_jobs=6,\n",
        "                      random_state=1234)\n",
        "# CatBoost\n",
        "cat_boost = CatBoostClassifier(n_estimators=2000,\n",
        "                        colsample_bylevel=0.06,\n",
        "                        max_leaves=31,\n",
        "                        subsample=0.67,\n",
        "                        verbose=0,\n",
        "                        thread_count=6,\n",
        "                        random_state=1234)\n"
      ],
      "execution_count": 317,
      "outputs": []
    },
    {
      "cell_type": "code",
      "metadata": {
        "id": "4atHw6oVoWL4"
      },
      "source": [
        "# Putting models in list and extracting model names \n",
        "models = [decision_tree, random_forest, ad_boost, xg_boost, light_gbm, cat_boost]\n",
        "# This is done to plot these models later\n",
        "model_list = [i.__class__.__name__ for i in models]"
      ],
      "execution_count": 349,
      "outputs": []
    },
    {
      "cell_type": "markdown",
      "metadata": {
        "id": "mtHVrdDovZvC"
      },
      "source": [
        "## Training the models"
      ]
    },
    {
      "cell_type": "code",
      "metadata": {
        "id": "kAaVNDzCvg8b"
      },
      "source": [
        "for m, n in zip(models, model_list):\n",
        "    start_time = time()\n",
        "    if n in es_models:\n",
        "        m.fit(x_train,\n",
        "              y_train)\n",
        "    else:\n",
        "        m.fit(x_train, y_train)\n",
        "    \n",
        "    run_time = time() - start_time\n",
        "    accuracy_score_training = m.score(x_train, y_train)\n",
        "    accuracy_score_validation = m.score(x_val, y_val)\n",
        "    results_df.loc[n] = [accuracy_score_training,accuracy_score_validation, run_time]\n",
        "    \n",
        "    del m\n"
      ],
      "execution_count": 350,
      "outputs": []
    },
    {
      "cell_type": "code",
      "metadata": {
        "colab": {
          "base_uri": "https://localhost:8080/",
          "height": 234
        },
        "id": "ppAyPjlq6CNp",
        "outputId": "2516fa76-0aad-4e45-e716-8bfb5c9370d5"
      },
      "source": [
        "results_df.head(7)"
      ],
      "execution_count": 352,
      "outputs": [
        {
          "output_type": "execute_result",
          "data": {
            "text/html": [
              "<div>\n",
              "<style scoped>\n",
              "    .dataframe tbody tr th:only-of-type {\n",
              "        vertical-align: middle;\n",
              "    }\n",
              "\n",
              "    .dataframe tbody tr th {\n",
              "        vertical-align: top;\n",
              "    }\n",
              "\n",
              "    .dataframe thead th {\n",
              "        text-align: right;\n",
              "    }\n",
              "</style>\n",
              "<table border=\"1\" class=\"dataframe\">\n",
              "  <thead>\n",
              "    <tr style=\"text-align: right;\">\n",
              "      <th></th>\n",
              "      <th>accuracy_score_training</th>\n",
              "      <th>accuracy_score_validation</th>\n",
              "      <th>run_time</th>\n",
              "    </tr>\n",
              "  </thead>\n",
              "  <tbody>\n",
              "    <tr>\n",
              "      <th>DecisionTreeClassifier</th>\n",
              "      <td>0.956661</td>\n",
              "      <td>0.715356</td>\n",
              "      <td>0.006642</td>\n",
              "    </tr>\n",
              "    <tr>\n",
              "      <th>RandomForestClassifier</th>\n",
              "      <td>1.000000</td>\n",
              "      <td>0.749064</td>\n",
              "      <td>1.320574</td>\n",
              "    </tr>\n",
              "    <tr>\n",
              "      <th>AdaBoostClassifier</th>\n",
              "      <td>0.833066</td>\n",
              "      <td>0.782772</td>\n",
              "      <td>0.773215</td>\n",
              "    </tr>\n",
              "    <tr>\n",
              "      <th>XGBClassifier</th>\n",
              "      <td>0.998395</td>\n",
              "      <td>0.737828</td>\n",
              "      <td>3.648538</td>\n",
              "    </tr>\n",
              "    <tr>\n",
              "      <th>LGBMClassifier</th>\n",
              "      <td>0.934189</td>\n",
              "      <td>0.734082</td>\n",
              "      <td>4.225040</td>\n",
              "    </tr>\n",
              "    <tr>\n",
              "      <th>CatBoostClassifier</th>\n",
              "      <td>0.789727</td>\n",
              "      <td>0.779026</td>\n",
              "      <td>0.443321</td>\n",
              "    </tr>\n",
              "  </tbody>\n",
              "</table>\n",
              "</div>"
            ],
            "text/plain": [
              "                        accuracy_score_training  ...  run_time\n",
              "DecisionTreeClassifier                 0.956661  ...  0.006642\n",
              "RandomForestClassifier                 1.000000  ...  1.320574\n",
              "AdaBoostClassifier                     0.833066  ...  0.773215\n",
              "XGBClassifier                          0.998395  ...  3.648538\n",
              "LGBMClassifier                         0.934189  ...  4.225040\n",
              "CatBoostClassifier                     0.789727  ...  0.443321\n",
              "\n",
              "[6 rows x 3 columns]"
            ]
          },
          "metadata": {},
          "execution_count": 352
        }
      ]
    },
    {
      "cell_type": "markdown",
      "metadata": {
        "id": "wHUPgp1tP9ku"
      },
      "source": [
        "## Visualizing the results"
      ]
    },
    {
      "cell_type": "markdown",
      "metadata": {
        "id": "r9nfdLxyX4ah"
      },
      "source": [
        "Plotting graph with accuracy_score_validation\t since we are more concerned with the validation accuracy."
      ]
    },
    {
      "cell_type": "code",
      "metadata": {
        "colab": {
          "base_uri": "https://localhost:8080/",
          "height": 336
        },
        "id": "lME-7syFPwNk",
        "outputId": "0b8330f1-8516-40cd-a20c-eef3570abad1"
      },
      "source": [
        "import seaborn as sns\n",
        "from matplotlib import pyplot as plt\n",
        "model_names = list(results_df.index)\n",
        "val_accuracy = list(results_df['accuracy_score_validation'])\n",
        "fig = plt.figure(figsize = (13, 5))\n",
        " \n",
        "# creating the bar plot\n",
        "plt.bar(model_names, val_accuracy,\n",
        "        width = 0.3)\n",
        " \n",
        "plt.ylabel(\"Test acuuracy\")\n",
        "plt.title(\"Validation Test Accuracy by models\")\n",
        "\n",
        "plt.show()"
      ],
      "execution_count": 360,
      "outputs": [
        {
          "output_type": "display_data",
          "data": {
            "image/png": "[encoded data removed]",
            "text/plain": [
              "<Figure size 936x360 with 1 Axes>"
            ]
          },
          "metadata": {
            "needs_background": "light"
          }
        }
      ]
    },
    {
      "cell_type": "markdown",
      "metadata": {
        "id": "00iVw9yIXEVY"
      },
      "source": [
        "From the above graph its clear that, AdaBoost Classifier is the winner in terms of acuuracy, its very close Catboost. So catboost also performs good in this type of datasets with good run-time."
      ]
    },
    {
      "cell_type": "markdown",
      "metadata": {
        "id": "PCxvfBm9X_ED"
      },
      "source": [
        "Plotting graph with run_time and Models names."
      ]
    },
    {
      "cell_type": "code",
      "metadata": {
        "colab": {
          "base_uri": "https://localhost:8080/",
          "height": 336
        },
        "id": "nxlg3cjeUNSL",
        "outputId": "bd54e82c-5b88-48e6-e5e5-645ad80ca848"
      },
      "source": [
        "import seaborn as sns\n",
        "from matplotlib import pyplot as plt\n",
        "model_names = list(results_df.index)\n",
        "val_accuracy = list(results_df['run_time'])\n",
        "fig = plt.figure(figsize = (12, 5))\n",
        " \n",
        "# creating the bar plot\n",
        "plt.bar(model_names, val_accuracy, color ='maroon',\n",
        "        width = 0.2)\n",
        " \n",
        "plt.ylabel(\"Runtime\")\n",
        "plt.title(\"Training Time by models Types\")\n",
        "plt.ylim(0, 4.5)\n",
        "plt.show()"
      ],
      "execution_count": 356,
      "outputs": [
        {
          "output_type": "display_data",
          "data": {
            "image/png": "[encoded data removed]",
            "text/plain": [
              "<Figure size 864x360 with 1 Axes>"
            ]
          },
          "metadata": {
            "needs_background": "light"
          }
        }
      ]
    },
    {
      "cell_type": "markdown",
      "metadata": {
        "id": "dQdN8GdDV2vZ"
      },
      "source": [
        "As per the above graph, its clear that Decision Tree is the clear winner in this case, since it uses the least run-time. Moreover CatBoost Also performed well in the speed test compared to other techniques."
      ]
    }
  ]
}